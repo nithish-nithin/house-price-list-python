{
 "cells": [
  {
   "cell_type": "markdown",
   "metadata": {},
   "source": [
    "# import library packages "
   ]
  },
  {
   "cell_type": "code",
   "execution_count": 1,
   "metadata": {},
   "outputs": [],
   "source": [
    "import numpy as np\n",
    "import pandas as pd\n",
    "import pickle\n",
    "from sklearn.model_selection import train_test_split\n",
    "from sklearn.preprocessing import LabelEncoder\n",
    "from sklearn.preprocessing import OneHotEncoder\n",
    "from sklearn.preprocessing import StandardScaler\n",
    "from sklearn.ensemble import RandomForestRegressor\n",
    "from sklearn import model_selection"
   ]
  },
  {
   "cell_type": "markdown",
   "metadata": {},
   "source": [
    "# Load the dataset"
   ]
  },
  {
   "cell_type": "code",
   "execution_count": 2,
   "metadata": {},
   "outputs": [
    {
     "data": {
      "text/html": [
       "<div>\n",
       "<style scoped>\n",
       "    .dataframe tbody tr th:only-of-type {\n",
       "        vertical-align: middle;\n",
       "    }\n",
       "\n",
       "    .dataframe tbody tr th {\n",
       "        vertical-align: top;\n",
       "    }\n",
       "\n",
       "    .dataframe thead th {\n",
       "        text-align: right;\n",
       "    }\n",
       "</style>\n",
       "<table border=\"1\" class=\"dataframe\">\n",
       "  <thead>\n",
       "    <tr style=\"text-align: right;\">\n",
       "      <th></th>\n",
       "      <th>h_type</th>\n",
       "      <th>location</th>\n",
       "      <th>society</th>\n",
       "      <th>size</th>\n",
       "      <th>bathroom</th>\n",
       "      <th>balcony</th>\n",
       "      <th>total_sqft</th>\n",
       "      <th>yr_built</th>\n",
       "      <th>furniture</th>\n",
       "      <th>sale_type</th>\n",
       "      <th>...</th>\n",
       "      <th>college</th>\n",
       "      <th>hospital</th>\n",
       "      <th>population</th>\n",
       "      <th>railway</th>\n",
       "      <th>airport</th>\n",
       "      <th>on_road</th>\n",
       "      <th>air_quality</th>\n",
       "      <th>restaurant</th>\n",
       "      <th>park</th>\n",
       "      <th>price</th>\n",
       "    </tr>\n",
       "  </thead>\n",
       "  <tbody>\n",
       "    <tr>\n",
       "      <th>0</th>\n",
       "      <td>apartment</td>\n",
       "      <td>Maneja</td>\n",
       "      <td>Bakeri Swara</td>\n",
       "      <td>3 BHK</td>\n",
       "      <td>3</td>\n",
       "      <td>1</td>\n",
       "      <td>1550.0</td>\n",
       "      <td>2011.0</td>\n",
       "      <td>0</td>\n",
       "      <td>new</td>\n",
       "      <td>...</td>\n",
       "      <td>0</td>\n",
       "      <td>1</td>\n",
       "      <td>2</td>\n",
       "      <td>0</td>\n",
       "      <td>0</td>\n",
       "      <td>1</td>\n",
       "      <td>1</td>\n",
       "      <td>1</td>\n",
       "      <td>1</td>\n",
       "      <td>4361705</td>\n",
       "    </tr>\n",
       "    <tr>\n",
       "      <th>1</th>\n",
       "      <td>apartment</td>\n",
       "      <td>Maneja</td>\n",
       "      <td>Bakeri Swara</td>\n",
       "      <td>3 BHK</td>\n",
       "      <td>3</td>\n",
       "      <td>1</td>\n",
       "      <td>1550.0</td>\n",
       "      <td>2012.0</td>\n",
       "      <td>1</td>\n",
       "      <td>new</td>\n",
       "      <td>...</td>\n",
       "      <td>0</td>\n",
       "      <td>1</td>\n",
       "      <td>2</td>\n",
       "      <td>0</td>\n",
       "      <td>0</td>\n",
       "      <td>1</td>\n",
       "      <td>1</td>\n",
       "      <td>1</td>\n",
       "      <td>1</td>\n",
       "      <td>5001905</td>\n",
       "    </tr>\n",
       "    <tr>\n",
       "      <th>2</th>\n",
       "      <td>apartment</td>\n",
       "      <td>Maneja</td>\n",
       "      <td>Bakeri Swara</td>\n",
       "      <td>3 BHK</td>\n",
       "      <td>3</td>\n",
       "      <td>1</td>\n",
       "      <td>1860.0</td>\n",
       "      <td>2010.0</td>\n",
       "      <td>1</td>\n",
       "      <td>new</td>\n",
       "      <td>...</td>\n",
       "      <td>0</td>\n",
       "      <td>1</td>\n",
       "      <td>2</td>\n",
       "      <td>0</td>\n",
       "      <td>0</td>\n",
       "      <td>1</td>\n",
       "      <td>1</td>\n",
       "      <td>1</td>\n",
       "      <td>1</td>\n",
       "      <td>5588795</td>\n",
       "    </tr>\n",
       "    <tr>\n",
       "      <th>3</th>\n",
       "      <td>apartment</td>\n",
       "      <td>Maneja</td>\n",
       "      <td>Bakeri Swara</td>\n",
       "      <td>2 BHK</td>\n",
       "      <td>2</td>\n",
       "      <td>1</td>\n",
       "      <td>1015.0</td>\n",
       "      <td>2016.0</td>\n",
       "      <td>1</td>\n",
       "      <td>new</td>\n",
       "      <td>...</td>\n",
       "      <td>0</td>\n",
       "      <td>1</td>\n",
       "      <td>2</td>\n",
       "      <td>0</td>\n",
       "      <td>0</td>\n",
       "      <td>1</td>\n",
       "      <td>1</td>\n",
       "      <td>1</td>\n",
       "      <td>1</td>\n",
       "      <td>3184740</td>\n",
       "    </tr>\n",
       "    <tr>\n",
       "      <th>4</th>\n",
       "      <td>apartment</td>\n",
       "      <td>Maneja</td>\n",
       "      <td>Bakeri Swara</td>\n",
       "      <td>2 BHK</td>\n",
       "      <td>2</td>\n",
       "      <td>1</td>\n",
       "      <td>1210.0</td>\n",
       "      <td>2019.0</td>\n",
       "      <td>0</td>\n",
       "      <td>new</td>\n",
       "      <td>...</td>\n",
       "      <td>0</td>\n",
       "      <td>1</td>\n",
       "      <td>2</td>\n",
       "      <td>0</td>\n",
       "      <td>0</td>\n",
       "      <td>1</td>\n",
       "      <td>1</td>\n",
       "      <td>1</td>\n",
       "      <td>1</td>\n",
       "      <td>3498895</td>\n",
       "    </tr>\n",
       "  </tbody>\n",
       "</table>\n",
       "<p>5 rows × 24 columns</p>\n",
       "</div>"
      ],
      "text/plain": [
       "      h_type location       society   size  bathroom  balcony  total_sqft  \\\n",
       "0  apartment   Maneja  Bakeri Swara  3 BHK         3        1      1550.0   \n",
       "1  apartment   Maneja  Bakeri Swara  3 BHK         3        1      1550.0   \n",
       "2  apartment   Maneja  Bakeri Swara  3 BHK         3        1      1860.0   \n",
       "3  apartment   Maneja  Bakeri Swara  2 BHK         2        1      1015.0   \n",
       "4  apartment   Maneja  Bakeri Swara  2 BHK         2        1      1210.0   \n",
       "\n",
       "   yr_built  furniture sale_type  ...  college  hospital  population  railway  \\\n",
       "0    2011.0          0       new  ...        0         1           2        0   \n",
       "1    2012.0          1       new  ...        0         1           2        0   \n",
       "2    2010.0          1       new  ...        0         1           2        0   \n",
       "3    2016.0          1       new  ...        0         1           2        0   \n",
       "4    2019.0          0       new  ...        0         1           2        0   \n",
       "\n",
       "   airport  on_road  air_quality  restaurant  park    price  \n",
       "0        0        1            1           1     1  4361705  \n",
       "1        0        1            1           1     1  5001905  \n",
       "2        0        1            1           1     1  5588795  \n",
       "3        0        1            1           1     1  3184740  \n",
       "4        0        1            1           1     1  3498895  \n",
       "\n",
       "[5 rows x 24 columns]"
      ]
     },
     "execution_count": 2,
     "metadata": {},
     "output_type": "execute_result"
    }
   ],
   "source": [
    "data = pd.read_csv(\"vadodara_house_price_dataset_new.csv\")\n",
    "data.head()"
   ]
  },
  {
   "cell_type": "markdown",
   "metadata": {},
   "source": [
    "# Data Preprocessing"
   ]
  },
  {
   "cell_type": "code",
   "execution_count": 3,
   "metadata": {},
   "outputs": [
    {
     "data": {
      "text/html": [
       "<div>\n",
       "<style scoped>\n",
       "    .dataframe tbody tr th:only-of-type {\n",
       "        vertical-align: middle;\n",
       "    }\n",
       "\n",
       "    .dataframe tbody tr th {\n",
       "        vertical-align: top;\n",
       "    }\n",
       "\n",
       "    .dataframe thead th {\n",
       "        text-align: right;\n",
       "    }\n",
       "</style>\n",
       "<table border=\"1\" class=\"dataframe\">\n",
       "  <thead>\n",
       "    <tr style=\"text-align: right;\">\n",
       "      <th></th>\n",
       "      <th>h_type</th>\n",
       "      <th>location</th>\n",
       "      <th>size</th>\n",
       "      <th>bathroom</th>\n",
       "      <th>balcony</th>\n",
       "      <th>total_sqft</th>\n",
       "      <th>price</th>\n",
       "    </tr>\n",
       "  </thead>\n",
       "  <tbody>\n",
       "    <tr>\n",
       "      <th>0</th>\n",
       "      <td>apartment</td>\n",
       "      <td>Maneja</td>\n",
       "      <td>3 BHK</td>\n",
       "      <td>3</td>\n",
       "      <td>1</td>\n",
       "      <td>1550.0</td>\n",
       "      <td>4361705</td>\n",
       "    </tr>\n",
       "    <tr>\n",
       "      <th>1</th>\n",
       "      <td>apartment</td>\n",
       "      <td>Maneja</td>\n",
       "      <td>3 BHK</td>\n",
       "      <td>3</td>\n",
       "      <td>1</td>\n",
       "      <td>1550.0</td>\n",
       "      <td>5001905</td>\n",
       "    </tr>\n",
       "    <tr>\n",
       "      <th>2</th>\n",
       "      <td>apartment</td>\n",
       "      <td>Maneja</td>\n",
       "      <td>3 BHK</td>\n",
       "      <td>3</td>\n",
       "      <td>1</td>\n",
       "      <td>1860.0</td>\n",
       "      <td>5588795</td>\n",
       "    </tr>\n",
       "    <tr>\n",
       "      <th>3</th>\n",
       "      <td>apartment</td>\n",
       "      <td>Maneja</td>\n",
       "      <td>2 BHK</td>\n",
       "      <td>2</td>\n",
       "      <td>1</td>\n",
       "      <td>1015.0</td>\n",
       "      <td>3184740</td>\n",
       "    </tr>\n",
       "    <tr>\n",
       "      <th>4</th>\n",
       "      <td>apartment</td>\n",
       "      <td>Maneja</td>\n",
       "      <td>2 BHK</td>\n",
       "      <td>2</td>\n",
       "      <td>1</td>\n",
       "      <td>1210.0</td>\n",
       "      <td>3498895</td>\n",
       "    </tr>\n",
       "  </tbody>\n",
       "</table>\n",
       "</div>"
      ],
      "text/plain": [
       "      h_type location   size  bathroom  balcony  total_sqft    price\n",
       "0  apartment   Maneja  3 BHK         3        1      1550.0  4361705\n",
       "1  apartment   Maneja  3 BHK         3        1      1550.0  5001905\n",
       "2  apartment   Maneja  3 BHK         3        1      1860.0  5588795\n",
       "3  apartment   Maneja  2 BHK         2        1      1015.0  3184740\n",
       "4  apartment   Maneja  2 BHK         2        1      1210.0  3498895"
      ]
     },
     "execution_count": 3,
     "metadata": {},
     "output_type": "execute_result"
    }
   ],
   "source": [
    "data = data.drop(['society', 'yr_built', 'furniture', 'sale_type', 'amenities', 'market', 'office', 'school', 'college', 'hospital', 'population', 'railway', 'airport', 'on_road', 'air_quality', 'restaurant', 'park'], axis=1)\n",
    "data.head()"
   ]
  },
  {
   "cell_type": "code",
   "execution_count": 4,
   "metadata": {},
   "outputs": [
    {
     "data": {
      "text/plain": [
       "h_type        0\n",
       "location      0\n",
       "size          0\n",
       "bathroom      0\n",
       "balcony       0\n",
       "total_sqft    0\n",
       "price         0\n",
       "dtype: int64"
      ]
     },
     "execution_count": 4,
     "metadata": {},
     "output_type": "execute_result"
    }
   ],
   "source": [
    "data.isnull().sum()"
   ]
  },
  {
   "cell_type": "code",
   "execution_count": 5,
   "metadata": {},
   "outputs": [
    {
     "data": {
      "text/plain": [
       "array([['apartment', 'Maneja', '3 BHK', 3, 1, 1550.0],\n",
       "       ['apartment', 'Maneja', '3 BHK', 3, 1, 1550.0],\n",
       "       ['apartment', 'Maneja', '3 BHK', 3, 1, 1860.0],\n",
       "       ...,\n",
       "       ['apartment', 'Gotri', '3 BHK', 3, 3, 1550.0],\n",
       "       ['apartment', 'Gotri', '3 BHK', 3, 2, 1750.0],\n",
       "       ['apartment', 'Gotri', '2 BHK', 2, 3, 1200.0]], dtype=object)"
      ]
     },
     "execution_count": 5,
     "metadata": {},
     "output_type": "execute_result"
    }
   ],
   "source": [
    "df = data.iloc[ : , :-1].values\n",
    "df"
   ]
  },
  {
   "cell_type": "markdown",
   "metadata": {},
   "source": [
    "# Label encoder(its conver the categorical to numerical)"
   ]
  },
  {
   "cell_type": "code",
   "execution_count": 6,
   "metadata": {},
   "outputs": [],
   "source": [
    "label_encoder = LabelEncoder()"
   ]
  },
  {
   "cell_type": "code",
   "execution_count": 7,
   "metadata": {},
   "outputs": [
    {
     "data": {
      "text/plain": [
       "array([[0, 'Maneja', '3 BHK', 3, 1, 1550.0],\n",
       "       [0, 'Maneja', '3 BHK', 3, 1, 1550.0],\n",
       "       [0, 'Maneja', '3 BHK', 3, 1, 1860.0],\n",
       "       ...,\n",
       "       [0, 'Gotri', '3 BHK', 3, 3, 1550.0],\n",
       "       [0, 'Gotri', '3 BHK', 3, 2, 1750.0],\n",
       "       [0, 'Gotri', '2 BHK', 2, 3, 1200.0]], dtype=object)"
      ]
     },
     "execution_count": 7,
     "metadata": {},
     "output_type": "execute_result"
    }
   ],
   "source": [
    "df[ : ,0] = label_encoder.fit_transform(df[ : ,0])\n",
    "df"
   ]
  },
  {
   "cell_type": "code",
   "execution_count": 8,
   "metadata": {},
   "outputs": [
    {
     "data": {
      "text/plain": [
       "{'apartment': 0,\n",
       " 'duplex': 1,\n",
       " 'pent house': 2,\n",
       " 'tenament': 3,\n",
       " 'triplex': 4,\n",
       " 'villa': 5}"
      ]
     },
     "execution_count": 8,
     "metadata": {},
     "output_type": "execute_result"
    }
   ],
   "source": [
    "mapping = dict(zip(label_encoder.classes_, label_encoder.transform(label_encoder.classes_)))\n",
    "mapping"
   ]
  },
  {
   "cell_type": "code",
   "execution_count": 9,
   "metadata": {},
   "outputs": [
    {
     "data": {
      "text/plain": [
       "array([[0, 15, '3 BHK', 3, 1, 1550.0],\n",
       "       [0, 15, '3 BHK', 3, 1, 1550.0],\n",
       "       [0, 15, '3 BHK', 3, 1, 1860.0],\n",
       "       ...,\n",
       "       [0, 8, '3 BHK', 3, 3, 1550.0],\n",
       "       [0, 8, '3 BHK', 3, 2, 1750.0],\n",
       "       [0, 8, '2 BHK', 2, 3, 1200.0]], dtype=object)"
      ]
     },
     "execution_count": 9,
     "metadata": {},
     "output_type": "execute_result"
    }
   ],
   "source": [
    "df[ : ,1] = label_encoder.fit_transform(df[ : ,1])\n",
    "df"
   ]
  },
  {
   "cell_type": "code",
   "execution_count": 10,
   "metadata": {},
   "outputs": [
    {
     "data": {
      "text/plain": [
       "{'Ajwa Road': 0,\n",
       " 'Akota': 1,\n",
       " 'Alkapuri': 2,\n",
       " 'Atladra': 3,\n",
       " 'Bhayli': 4,\n",
       " 'Chhani': 5,\n",
       " 'Fatehgunj': 6,\n",
       " 'Gorwa': 7,\n",
       " 'Gotri': 8,\n",
       " 'Harni': 9,\n",
       " 'Karelibaug': 10,\n",
       " 'Khodiyar Nagar': 11,\n",
       " 'Laxmipura': 12,\n",
       " 'Madhav Pura': 13,\n",
       " 'Mandvi': 14,\n",
       " 'Maneja': 15,\n",
       " 'Manjalpur': 16,\n",
       " 'Navapura': 17,\n",
       " 'New Alkapuri': 18,\n",
       " 'New Karelibaugh': 19,\n",
       " 'New Sama': 20,\n",
       " 'New VIP Road': 21,\n",
       " 'Sama': 22,\n",
       " 'Sayajipura': 23,\n",
       " 'Soma Talav': 24,\n",
       " 'Vasant Vihar': 25,\n",
       " 'Vasna Road': 26,\n",
       " 'Vasna-Bhayli Road': 27,\n",
       " 'Waghodia Road': 28}"
      ]
     },
     "execution_count": 10,
     "metadata": {},
     "output_type": "execute_result"
    }
   ],
   "source": [
    "mapping = dict(zip(label_encoder.classes_, label_encoder.transform(label_encoder.classes_)))\n",
    "mapping"
   ]
  },
  {
   "cell_type": "code",
   "execution_count": 11,
   "metadata": {},
   "outputs": [
    {
     "data": {
      "text/plain": [
       "array([[0, 15, 2, 3, 1, 1550.0],\n",
       "       [0, 15, 2, 3, 1, 1550.0],\n",
       "       [0, 15, 2, 3, 1, 1860.0],\n",
       "       ...,\n",
       "       [0, 8, 2, 3, 3, 1550.0],\n",
       "       [0, 8, 2, 3, 2, 1750.0],\n",
       "       [0, 8, 1, 2, 3, 1200.0]], dtype=object)"
      ]
     },
     "execution_count": 11,
     "metadata": {},
     "output_type": "execute_result"
    }
   ],
   "source": [
    "df[ : ,2] = label_encoder.fit_transform(df[ : ,2])\n",
    "df"
   ]
  },
  {
   "cell_type": "code",
   "execution_count": 12,
   "metadata": {},
   "outputs": [
    {
     "data": {
      "text/plain": [
       "{'1 BHK': 0, '2 BHK': 1, '3 BHK': 2, '4 BHK': 3, '5 BHK': 4}"
      ]
     },
     "execution_count": 12,
     "metadata": {},
     "output_type": "execute_result"
    }
   ],
   "source": [
    "mapping = dict(zip(label_encoder.classes_, label_encoder.transform(label_encoder.classes_)))\n",
    "mapping"
   ]
  },
  {
   "cell_type": "code",
   "execution_count": 13,
   "metadata": {},
   "outputs": [],
   "source": [
    "y = data.price.values\n",
    "X = df"
   ]
  },
  {
   "cell_type": "markdown",
   "metadata": {},
   "source": [
    "# Split the dataset "
   ]
  },
  {
   "cell_type": "code",
   "execution_count": 14,
   "metadata": {},
   "outputs": [],
   "source": [
    "X_train, X_val, y_train, y_val = train_test_split(X, y,test_size=0.2)"
   ]
  },
  {
   "cell_type": "code",
   "execution_count": 15,
   "metadata": {},
   "outputs": [],
   "source": [
    "standard_x = StandardScaler()"
   ]
  },
  {
   "cell_type": "code",
   "execution_count": 16,
   "metadata": {},
   "outputs": [],
   "source": [
    "X_train = standard_x.fit_transform(X_train)\n",
    "X_val = standard_x.transform(X_val)"
   ]
  },
  {
   "cell_type": "code",
   "execution_count": 17,
   "metadata": {},
   "outputs": [
    {
     "name": "stdout",
     "output_type": "stream",
     "text": [
      "Train_Shape:  (272, 6)\n",
      "\n",
      "X_train:\n"
     ]
    },
    {
     "data": {
      "text/plain": [
       "array([[ 3.58747505,  0.31789938,  1.4260059 ,  0.36590733, -0.64191645,\n",
       "         0.71987611],\n",
       "       [-0.42813488,  1.39204385,  0.28520118,  0.36590733, -0.64191645,\n",
       "         0.85167963],\n",
       "       [ 0.3749871 ,  1.60687275,  0.28520118,  0.36590733,  1.47446263,\n",
       "         0.16491391],\n",
       "       ...,\n",
       "       [-0.42813488, -0.43400176,  0.28520118,  0.36590733,  0.41627309,\n",
       "        -0.1125672 ],\n",
       "       [-0.42813488, -0.43400176, -0.85560354, -0.68174312, -0.64191645,\n",
       "        -0.7424493 ],\n",
       "       [-0.42813488, -1.40073178, -0.85560354, -0.68174312, -0.64191645,\n",
       "        -0.45941858]])"
      ]
     },
     "execution_count": 17,
     "metadata": {},
     "output_type": "execute_result"
    }
   ],
   "source": [
    "print('Train_Shape: ',X_train.shape)\n",
    "print(\"\\nX_train:\")\n",
    "X_train"
   ]
  },
  {
   "cell_type": "code",
   "execution_count": 18,
   "metadata": {},
   "outputs": [
    {
     "name": "stdout",
     "output_type": "stream",
     "text": [
      "Val_Shape:  (68, 6)\n",
      "\n",
      "X_val:\n"
     ]
    },
    {
     "data": {
      "text/plain": [
       "array([[-0.42813488,  0.53272827,  0.28520118,  0.36590733, -0.64191645,\n",
       "         0.48401717],\n",
       "       [-0.42813488, -0.43400176, -0.85560354, -0.68174312, -0.64191645,\n",
       "        -0.73412487],\n",
       "       [-0.42813488, -0.86365955, -0.85560354, -0.68174312,  0.41627309,\n",
       "        -0.2901551 ],\n",
       "       [-0.42813488,  1.60687275, -0.85560354, -0.68174312, -0.64191645,\n",
       "         0.01784892],\n",
       "       [-0.42813488, -0.86365955,  0.28520118,  1.41355778,  1.47446263,\n",
       "         0.65050583],\n",
       "       [-0.42813488, -0.43400176,  0.28520118,  0.36590733, -0.64191645,\n",
       "         2.38476272],\n",
       "       [ 0.3749871 , -0.7562451 ,  0.28520118,  0.36590733,  0.41627309,\n",
       "         0.55616226],\n",
       "       [-0.42813488, -0.7562451 , -0.85560354, -0.68174312, -0.64191645,\n",
       "        -0.93668607],\n",
       "       [-0.42813488, -1.40073178, -0.85560354, -0.68174312, -0.64191645,\n",
       "        -0.23743369],\n",
       "       [-0.42813488, -0.86365955,  0.28520118,  0.36590733, -0.64191645,\n",
       "         1.08060154],\n",
       "       [-0.42813488,  0.21048493, -0.85560354, -0.68174312, -0.64191645,\n",
       "        -0.64671832],\n",
       "       [-0.42813488, -0.7562451 ,  0.28520118,  0.36590733,  1.47446263,\n",
       "         0.23428418],\n",
       "       [-0.42813488, -0.43400176, -0.85560354, -0.68174312, -1.70010599,\n",
       "        -1.12398582],\n",
       "       [-0.42813488,  0.21048493,  0.28520118,  0.36590733, -0.64191645,\n",
       "         0.52563934],\n",
       "       [-0.42813488, -0.86365955, -0.85560354, -0.68174312, -0.64191645,\n",
       "        -0.87009061],\n",
       "       [-0.42813488, -1.40073178, -0.85560354, -0.68174312,  0.41627309,\n",
       "        -0.3900483 ],\n",
       "       [-0.42813488, -0.43400176,  0.28520118,  0.36590733,  0.41627309,\n",
       "        -0.05013395],\n",
       "       [-0.42813488, -0.43400176,  0.28520118,  0.36590733, -1.70010599,\n",
       "         0.2897804 ],\n",
       "       [-0.42813488,  0.64014272, -0.85560354, -0.68174312, -0.64191645,\n",
       "        -0.59815913],\n",
       "       [ 0.3749871 ,  1.60687275,  0.28520118,  0.36590733, -0.64191645,\n",
       "        -0.51213998],\n",
       "       [-0.42813488,  1.60687275,  0.28520118,  0.36590733,  0.41627309,\n",
       "         0.49789123],\n",
       "       [-0.42813488,  0.64014272, -0.85560354, -0.68174312, -0.64191645,\n",
       "        -0.78545887],\n",
       "       [ 3.58747505, -1.18590289,  0.28520118,  0.36590733, -0.64191645,\n",
       "         1.69105997],\n",
       "       [-0.42813488, -0.32658731, -0.85560354, -0.68174312, -0.64191645,\n",
       "        -1.23636566],\n",
       "       [-0.42813488, -0.43400176,  0.28520118,  0.36590733,  0.41627309,\n",
       "         0.79063379],\n",
       "       [-0.42813488,  1.60687275, -0.85560354, -0.68174312,  0.41627309,\n",
       "        -0.23604629],\n",
       "       [-0.42813488, -0.7562451 ,  0.28520118, -0.68174312, -0.64191645,\n",
       "        -0.3900483 ],\n",
       "       [-0.42813488, -0.43400176,  0.28520118,  0.36590733, -1.70010599,\n",
       "        -0.77158482],\n",
       "       [-0.42813488, -0.43400176, -0.85560354, -0.68174312, -0.64191645,\n",
       "        -0.32067802],\n",
       "       [-0.42813488,  1.39204385,  0.28520118,  0.36590733,  0.41627309,\n",
       "         0.02617335],\n",
       "       [ 0.3749871 ,  1.60687275,  0.28520118,  0.36590733, -0.64191645,\n",
       "        -0.63284426],\n",
       "       [ 0.3749871 ,  1.2846294 ,  0.28520118,  0.36590733, -0.64191645,\n",
       "         0.96267207],\n",
       "       [-0.42813488, -0.97107399,  0.28520118,  0.36590733,  0.41627309,\n",
       "        -0.07820116],\n",
       "       [-0.42813488, -0.7562451 ,  0.28520118,  0.36590733,  0.41627309,\n",
       "         0.30365446],\n",
       "       [-0.42813488, -0.32658731,  0.28520118,  0.36590733,  0.41627309,\n",
       "         1.43855216],\n",
       "       [-0.42813488, -0.43400176,  0.28520118,  0.36590733,  0.41627309,\n",
       "         0.44933203],\n",
       "       [ 3.58747505, -1.07848844,  0.28520118,  0.36590733, -0.64191645,\n",
       "        -0.32067802],\n",
       "       [-0.42813488, -0.11175841, -0.85560354, -0.68174312, -0.64191645,\n",
       "        -0.45941858],\n",
       "       [-0.42813488,  0.85497161, -0.85560354, -0.68174312, -0.64191645,\n",
       "        -0.59815913],\n",
       "       [ 0.3749871 ,  1.60687275,  0.28520118,  0.36590733, -0.64191645,\n",
       "        -0.27766845],\n",
       "       [-0.42813488, -0.32658731,  0.28520118,  0.36590733,  0.41627309,\n",
       "         0.37024992],\n",
       "       [-0.42813488,  1.60687275, -0.85560354, -0.68174312, -0.64191645,\n",
       "        -0.96165937],\n",
       "       [ 0.3749871 ,  1.60687275,  1.4260059 ,  1.41355778, -0.64191645,\n",
       "        -0.38172387],\n",
       "       [-0.42813488,  1.2846294 ,  0.28520118,  1.41355778,  0.41627309,\n",
       "         4.04964934],\n",
       "       [-0.42813488,  1.06980051, -0.85560354, -0.68174312,  0.41627309,\n",
       "        -1.12855038],\n",
       "       [-0.42813488, -1.18590289,  1.4260059 ,  3.50885868,  1.47446263,\n",
       "         2.80098438],\n",
       "       [-0.42813488,  0.85497161,  0.28520118,  0.36590733, -0.64191645,\n",
       "        -0.19581153],\n",
       "       [-0.42813488,  1.60687275, -0.85560354, -0.68174312,  1.47446263,\n",
       "        -0.52878885],\n",
       "       [-0.42813488, -0.86365955, -0.85560354, -0.68174312, -1.70010599,\n",
       "        -0.05013395],\n",
       "       [-0.42813488, -0.43400176,  0.28520118,  0.36590733,  0.41627309,\n",
       "        -0.57873545],\n",
       "       [-0.42813488, -0.7562451 , -0.85560354, -0.68174312,  0.41627309,\n",
       "        -0.25130775],\n",
       "       [-0.42813488, -1.40073178,  0.28520118, -0.68174312, -0.64191645,\n",
       "         0.24815824],\n",
       "       [-0.42813488,  0.96238606, -1.99640826, -1.72939358, -0.64191645,\n",
       "        -1.2211042 ],\n",
       "       [-0.42813488, -0.43400176,  1.4260059 ,  1.41355778,  0.41627309,\n",
       "         2.80098438],\n",
       "       [-0.42813488,  0.42531382, -0.85560354, -0.68174312,  1.47446263,\n",
       "        -0.3900483 ],\n",
       "       [-0.42813488,  1.60687275, -0.85560354, -0.68174312, -0.64191645,\n",
       "        -0.60370875],\n",
       "       [-0.42813488,  0.21048493,  0.28520118,  0.36590733, -0.64191645,\n",
       "         0.09554363],\n",
       "       [-0.42813488, -0.43400176, -0.85560354, -0.68174312, -0.64191645,\n",
       "        -0.43860749],\n",
       "       [-0.42813488, -0.43400176, -0.85560354, -0.68174312, -0.64191645,\n",
       "        -0.7438367 ],\n",
       "       [-0.42813488,  1.60687275,  0.28520118,  0.36590733, -0.64191645,\n",
       "        -0.60232134],\n",
       "       [ 0.3749871 , -1.40073178, -0.85560354, -0.68174312, -0.64191645,\n",
       "        -0.80626995],\n",
       "       [-0.42813488,  0.31789938,  0.28520118,  0.36590733,  1.47446263,\n",
       "         0.08166957],\n",
       "       [ 0.3749871 ,  0.64014272, -1.99640826, -1.72939358, -0.64191645,\n",
       "        -1.00050672],\n",
       "       [-0.42813488, -0.32658731, -0.85560354, -1.72939358, -0.64191645,\n",
       "        -1.01438078],\n",
       "       [-0.42813488,  0.64014272, -0.85560354, -0.68174312, -0.64191645,\n",
       "        -0.59815913],\n",
       "       [-0.42813488, -0.97107399, -0.85560354, -1.72939358, -1.70010599,\n",
       "        -1.11288657],\n",
       "       [-0.42813488, -0.86365955, -0.85560354, -0.68174312, -0.64191645,\n",
       "         0.04698444],\n",
       "       [-0.42813488, -0.43400176,  0.28520118,  0.36590733,  1.47446263,\n",
       "         0.58113556]])"
      ]
     },
     "execution_count": 18,
     "metadata": {},
     "output_type": "execute_result"
    }
   ],
   "source": [
    "print('Val_Shape: ',X_val.shape)\n",
    "print(\"\\nX_val:\")\n",
    "X_val"
   ]
  },
  {
   "cell_type": "code",
   "execution_count": 19,
   "metadata": {},
   "outputs": [],
   "source": [
    "regressor = RandomForestRegressor(n_estimators = 10, random_state = 0)"
   ]
  },
  {
   "cell_type": "markdown",
   "metadata": {},
   "source": [
    "# train the model"
   ]
  },
  {
   "cell_type": "code",
   "execution_count": 20,
   "metadata": {},
   "outputs": [
    {
     "data": {
      "text/plain": [
       "RandomForestRegressor(n_estimators=10, random_state=0)"
      ]
     },
     "execution_count": 20,
     "metadata": {},
     "output_type": "execute_result"
    }
   ],
   "source": [
    "regressor.fit(X_train, y_train)"
   ]
  },
  {
   "cell_type": "markdown",
   "metadata": {},
   "source": [
    "# predict the accuracy score"
   ]
  },
  {
   "cell_type": "code",
   "execution_count": 21,
   "metadata": {},
   "outputs": [
    {
     "name": "stdout",
     "output_type": "stream",
     "text": [
      "Accuracy: 0.5260276469050852\n"
     ]
    }
   ],
   "source": [
    "acc = regressor.score(X_val, y_val)\n",
    "print(\"Accuracy:\", acc)"
   ]
  },
  {
   "cell_type": "markdown",
   "metadata": {},
   "source": [
    "# KNN regression algorithm"
   ]
  },
  {
   "cell_type": "code",
   "execution_count": 22,
   "metadata": {},
   "outputs": [
    {
     "data": {
      "text/plain": [
       "KNeighborsRegressor(n_neighbors=1)"
      ]
     },
     "execution_count": 22,
     "metadata": {},
     "output_type": "execute_result"
    }
   ],
   "source": [
    "from sklearn.neighbors import KNeighborsRegressor\n",
    "regressor=KNeighborsRegressor(n_neighbors=1)\n",
    "regressor.fit(X_train,y_train)"
   ]
  },
  {
   "cell_type": "code",
   "execution_count": 23,
   "metadata": {},
   "outputs": [
    {
     "name": "stdout",
     "output_type": "stream",
     "text": [
      "Coefficient of determination R^2 <-- on train set: 0.9999568169837206\n"
     ]
    }
   ],
   "source": [
    "print(\"Coefficient of determination R^2 <-- on train set: {}\".format(regressor.score(X_train, y_train)))"
   ]
  },
  {
   "cell_type": "code",
   "execution_count": 24,
   "metadata": {},
   "outputs": [
    {
     "name": "stdout",
     "output_type": "stream",
     "text": [
      "Coefficient of determination R^2 <-- on train set: 0.1758515013741333\n"
     ]
    }
   ],
   "source": [
    "print(\"Coefficient of determination R^2 <-- on train set: {}\".format(regressor.score(X_val, y_val)))"
   ]
  },
  {
   "cell_type": "code",
   "execution_count": 25,
   "metadata": {},
   "outputs": [],
   "source": [
    "from sklearn.model_selection import cross_val_score\n",
    "score=cross_val_score(regressor,X,y,cv=5)"
   ]
  },
  {
   "cell_type": "code",
   "execution_count": 26,
   "metadata": {},
   "outputs": [
    {
     "data": {
      "text/plain": [
       "-0.8747394012685692"
      ]
     },
     "execution_count": 26,
     "metadata": {},
     "output_type": "execute_result"
    }
   ],
   "source": [
    "score.mean()"
   ]
  },
  {
   "cell_type": "code",
   "execution_count": 27,
   "metadata": {},
   "outputs": [],
   "source": [
    "prediction=regressor.predict(X_val)"
   ]
  },
  {
   "cell_type": "code",
   "execution_count": 28,
   "metadata": {},
   "outputs": [
    {
     "name": "stderr",
     "output_type": "stream",
     "text": [
      "C:\\Users\\Dell\\anaconda3\\lib\\site-packages\\seaborn\\distributions.py:2619: FutureWarning: `distplot` is a deprecated function and will be removed in a future version. Please adapt your code to use either `displot` (a figure-level function with similar flexibility) or `histplot` (an axes-level function for histograms).\n",
      "  warnings.warn(msg, FutureWarning)\n"
     ]
    },
    {
     "data": {
      "text/plain": [
       "<AxesSubplot:ylabel='Density'>"
      ]
     },
     "execution_count": 28,
     "metadata": {},
     "output_type": "execute_result"
    },
    {
     "data": {
      "image/png": "[encoded data removed]",
      "text/plain": [
       "<Figure size 640x480 with 1 Axes>"
      ]
     },
     "metadata": {},
     "output_type": "display_data"
    }
   ],
   "source": [
    "import seaborn as sns\n",
    "sns.distplot(y_val-prediction)"
   ]
  },
  {
   "cell_type": "code",
   "execution_count": 29,
   "metadata": {
    "scrolled": true
   },
   "outputs": [
    {
     "data": {
      "text/plain": [
       "<matplotlib.collections.PathCollection at 0x21067cea880>"
      ]
     },
     "execution_count": 29,
     "metadata": {},
     "output_type": "execute_result"
    },
    {
     "data": {
      "image/png": "[encoded data removed]",
      "text/plain": [
       "<Figure size 640x480 with 1 Axes>"
      ]
     },
     "metadata": {},
     "output_type": "display_data"
    }
   ],
   "source": [
    "import matplotlib.pyplot as plt\n",
    "plt.scatter(y_val,prediction)"
   ]
  },
  {
   "cell_type": "code",
   "execution_count": 30,
   "metadata": {},
   "outputs": [],
   "source": [
    "#Hypertunning "
   ]
  },
  {
   "cell_type": "code",
   "execution_count": 31,
   "metadata": {},
   "outputs": [],
   "source": [
    "accuracy_rate = []\n",
    "\n",
    "# Will take some time\n",
    "for i in range(1,40):\n",
    "    \n",
    "    knn = KNeighborsRegressor(n_neighbors=i)\n",
    "    score=cross_val_score(knn,X,y,cv=10,scoring=\"neg_mean_squared_error\")\n",
    "    accuracy_rate.append(score.mean())"
   ]
  },
  {
   "cell_type": "code",
   "execution_count": 32,
   "metadata": {},
   "outputs": [
    {
     "data": {
      "text/plain": [
       "Text(0, 0.5, 'Accuracy Rate')"
      ]
     },
     "execution_count": 32,
     "metadata": {},
     "output_type": "execute_result"
    },
    {
     "data": {
      "image/png": "[encoded data removed]",
      "text/plain": [
       "<Figure size 1000x600 with 1 Axes>"
      ]
     },
     "metadata": {},
     "output_type": "display_data"
    }
   ],
   "source": [
    "import matplotlib.pyplot as plt\n",
    "\n",
    "plt.figure(figsize=(10,6))\n",
    "plt.plot(range(1,40),accuracy_rate,color='blue', linestyle='dashed', marker='o',\n",
    "         markerfacecolor='red', markersize=10)\n",
    "plt.title('Accuracy Rate vs. K Value')\n",
    "plt.xlabel('K')\n",
    "plt.ylabel('Accuracy Rate')"
   ]
  },
  {
   "cell_type": "code",
   "execution_count": 33,
   "metadata": {},
   "outputs": [
    {
     "name": "stdout",
     "output_type": "stream",
     "text": [
      "[ 5500000.  3100000.  3500000.  3000000. 12500000.  5169000.  7700000.\n",
      "  2200000.  3300000.  4944000.  2700000.  4100000.  2500000.  5500000.\n",
      "  3000000.  1900000.  3300000.  3100000.  1800000.  1800000.  5000000.\n",
      "  1800000.  9000000.  2500000.  4100000.  4300000.  3500000.  3100000.\n",
      "  3401000.  5000000.  1800000.  8504000.  8601000.  7700000.  7500000.\n",
      "  4100000.  6000000.  3500000.  2400000.  1800000.  4100000.  3000000.\n",
      "  4221000. 37000000.  2350000. 10500000.  2400000.  2851000.  3432000.\n",
      "  3801000.  3500000.  5500000.  1250000. 14000000.  3618000.  3000000.\n",
      "  4361705.  3500000.  3100000.  4300000.  5000000.  3570000.  1199000.\n",
      "  2200000.  1800000.  1650000.  3500000.  4000000.]\n"
     ]
    }
   ],
   "source": [
    "# FIRST A QUICK COMPARISON TO OUR ORIGINAL K=1\n",
    "knn = KNeighborsRegressor(n_neighbors=1)\n",
    "\n",
    "knn.fit(X_train,y_train)\n",
    "predictions = knn.predict(X_val)\n",
    "print(predictions)"
   ]
  },
  {
   "cell_type": "code",
   "execution_count": 34,
   "metadata": {},
   "outputs": [
    {
     "name": "stdout",
     "output_type": "stream",
     "text": [
      "Mean Squared Error: 19613477286170.957\n"
     ]
    }
   ],
   "source": [
    "from sklearn.metrics import mean_squared_error\n",
    "\n",
    "mse = mean_squared_error(y_val, predictions)\n",
    "print(\"Mean Squared Error:\", mse)"
   ]
  },
  {
   "cell_type": "code",
   "execution_count": 35,
   "metadata": {},
   "outputs": [
    {
     "name": "stdout",
     "output_type": "stream",
     "text": [
      "MAE: 2016790.2205882352\n",
      "MSE: 19613477286170.957\n",
      "RMSE: 4428710.566990234\n"
     ]
    }
   ],
   "source": [
    "from sklearn import metrics\n",
    "print('MAE:', metrics.mean_absolute_error(y_val, predictions))\n",
    "print('MSE:', metrics.mean_squared_error(y_val, predictions))\n",
    "print('RMSE:', np.sqrt(metrics.mean_squared_error(y_val, predictions)))"
   ]
  },
  {
   "cell_type": "markdown",
   "metadata": {},
   "source": [
    "# GaussianNB model"
   ]
  },
  {
   "cell_type": "code",
   "execution_count": 36,
   "metadata": {},
   "outputs": [
    {
     "name": "stdout",
     "output_type": "stream",
     "text": [
      "[ 3401000  3350000  1900000  3000000  4000000  6000000 11500000  3350000\n",
      "  3350000  6000000  3000000  4000000  2800000  3401000  3350000  1900000\n",
      "  4100000  4100000  3000000  1800000  4500000  3000000  6000000  3000000\n",
      "  4100000  1900000  4200000  3100000  3350000  4500000  1800000 11500000\n",
      "  4000000  4000000  6200000  4100000  6000000  3350000  3000000  1800000\n",
      "  4100000  3000000  1800000  5000000  2800000 10500000  3401000  1900000\n",
      "  1900000  3100000  1900000  4200000  3500000 14000000  1900000  3000000\n",
      "  4361705  3350000  3350000  1800000  2300000  4000000  3400000  2200000\n",
      "  3000000  3100000  3350000  4100000]\n"
     ]
    }
   ],
   "source": [
    "from sklearn.naive_bayes import GaussianNB\n",
    "# Train the model\n",
    "nb = GaussianNB()\n",
    "nb.fit(X_train,y_train)\n",
    "\n",
    "predictions = nb.predict(X_val)\n",
    "print(predictions)"
   ]
  },
  {
   "cell_type": "code",
   "execution_count": 37,
   "metadata": {},
   "outputs": [
    {
     "name": "stdout",
     "output_type": "stream",
     "text": [
      "Accuracy Score: 0.014705882352941176\n"
     ]
    }
   ],
   "source": [
    "from sklearn.metrics import accuracy_score\n",
    "\n",
    "# Calculate the accuracy score\n",
    "accuracy = accuracy_score(y_val, predictions)\n",
    "\n",
    "# Print the accuracy score\n",
    "print(\"Accuracy Score:\", accuracy)"
   ]
  },
  {
   "cell_type": "code",
   "execution_count": 38,
   "metadata": {},
   "outputs": [
    {
     "data": {
      "image/png": "[encoded data removed]",
      "text/plain": [
       "<Figure size 640x480 with 1 Axes>"
      ]
     },
     "metadata": {},
     "output_type": "display_data"
    }
   ],
   "source": [
    "import matplotlib.pyplot as plt\n",
    "\n",
    "def comparison_bar_plot(data, labels, title, xlabel, ylabel):\n",
    "    fig, ax = plt.subplots()\n",
    "    ax.bar(labels, data)\n",
    "    ax.set_title(title)\n",
    "    ax.set_xlabel(xlabel)\n",
    "    ax.set_ylabel(ylabel)\n",
    "    plt.show()\n",
    "\n",
    "data = [acc,mse,accuracy]\n",
    "labels = ['Random forest', 'KNN reg', 'Gaussian NB']\n",
    "title = 'Comparison Bar Plot'\n",
    "xlabel = 'Labels'\n",
    "ylabel = 'Data'\n",
    "\n",
    "comparison_bar_plot(data, labels, title, xlabel, ylabel)\n"
   ]
  },
  {
   "cell_type": "code",
   "execution_count": 39,
   "metadata": {},
   "outputs": [],
   "source": [
    "filename = 'vadodara_house_model.pkl'"
   ]
  },
  {
   "cell_type": "code",
   "execution_count": 40,
   "metadata": {},
   "outputs": [],
   "source": [
    "pickle.dump(regressor, open(filename, 'wb'))"
   ]
  },
  {
   "cell_type": "code",
   "execution_count": 41,
   "metadata": {},
   "outputs": [],
   "source": [
    "loaded_model = pickle.load(open(filename, 'rb'))"
   ]
  },
  {
   "cell_type": "code",
   "execution_count": 42,
   "metadata": {},
   "outputs": [],
   "source": [
    "accuracy = loaded_model.score(X_val, y_val)"
   ]
  },
  {
   "cell_type": "code",
   "execution_count": 43,
   "metadata": {},
   "outputs": [
    {
     "name": "stdout",
     "output_type": "stream",
     "text": [
      "17.58515013741333 %\n"
     ]
    }
   ],
   "source": [
    "print(accuracy*100, '%')"
   ]
  },
  {
   "cell_type": "code",
   "execution_count": 44,
   "metadata": {},
   "outputs": [],
   "source": [
    "predictions = loaded_model.predict(X_val)"
   ]
  },
  {
   "cell_type": "code",
   "execution_count": 45,
   "metadata": {},
   "outputs": [
    {
     "data": {
      "text/plain": [
       "array([ 5500000.,  3100000.,  3500000.,  3000000., 12500000.,  5169000.,\n",
       "        7700000.,  2200000.,  3300000.,  4944000.,  2700000.,  4100000.,\n",
       "        2500000.,  5500000.,  3000000.,  1900000.,  3300000.,  3100000.,\n",
       "        1800000.,  1800000.,  5000000.,  1800000.,  9000000.,  2500000.,\n",
       "        4100000.,  4300000.,  3500000.,  3100000.,  3401000.,  5000000.,\n",
       "        1800000.,  8504000.,  8601000.,  7700000.,  7500000.,  4100000.,\n",
       "        6000000.,  3500000.,  2400000.,  1800000.,  4100000.,  3000000.,\n",
       "        4221000., 37000000.,  2350000., 10500000.,  2400000.,  2851000.,\n",
       "        3432000.,  3801000.,  3500000.,  5500000.,  1250000., 14000000.,\n",
       "        3618000.,  3000000.,  4361705.,  3500000.,  3100000.,  4300000.,\n",
       "        5000000.,  3570000.,  1199000.,  2200000.,  1800000.,  1650000.,\n",
       "        3500000.,  4000000.])"
      ]
     },
     "execution_count": 45,
     "metadata": {},
     "output_type": "execute_result"
    }
   ],
   "source": [
    "predictions"
   ]
  },
  {
   "cell_type": "code",
   "execution_count": null,
   "metadata": {},
   "outputs": [],
   "source": []
  }
 ],
 "metadata": {
  "kernelspec": {
   "display_name": "Python 3 (ipykernel)",
   "language": "python",
   "name": "python3"
  },
  "language_info": {
   "codemirror_mode": {
    "name": "ipython",
    "version": 3
   },
   "file_extension": ".py",
   "mimetype": "text/x-python",
   "name": "python",
   "nbconvert_exporter": "python",
   "pygments_lexer": "ipython3",
   "version": "3.9.13"
  }
 },
 "nbformat": 4,
 "nbformat_minor": 2
}
