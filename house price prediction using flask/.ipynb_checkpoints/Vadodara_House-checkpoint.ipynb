{
 "cells": [
  {
   "cell_type": "markdown",
   "metadata": {},
   "source": [
    "# import library packages "
   ]
  },
  {
   "cell_type": "code",
   "execution_count": 1,
   "metadata": {},
   "outputs": [],
   "source": [
    "import numpy as np\n",
    "import pandas as pd\n",
    "import pickle\n",
    "from sklearn.model_selection import train_test_split\n",
    "from sklearn.preprocessing import LabelEncoder\n",
    "from sklearn.preprocessing import OneHotEncoder\n",
    "from sklearn.preprocessing import StandardScaler\n",
    "from sklearn.ensemble import RandomForestRegressor\n",
    "from sklearn import model_selection"
   ]
  },
  {
   "cell_type": "markdown",
   "metadata": {},
   "source": [
    "# Load the dataset"
   ]
  },
  {
   "cell_type": "code",
   "execution_count": 2,
   "metadata": {},
   "outputs": [
    {
     "data": {
      "text/html": [
       "<div>\n",
       "<style scoped>\n",
       "    .dataframe tbody tr th:only-of-type {\n",
       "        vertical-align: middle;\n",
       "    }\n",
       "\n",
       "    .dataframe tbody tr th {\n",
       "        vertical-align: top;\n",
       "    }\n",
       "\n",
       "    .dataframe thead th {\n",
       "        text-align: right;\n",
       "    }\n",
       "</style>\n",
       "<table border=\"1\" class=\"dataframe\">\n",
       "  <thead>\n",
       "    <tr style=\"text-align: right;\">\n",
       "      <th></th>\n",
       "      <th>h_type</th>\n",
       "      <th>location</th>\n",
       "      <th>society</th>\n",
       "      <th>size</th>\n",
       "      <th>bathroom</th>\n",
       "      <th>balcony</th>\n",
       "      <th>total_sqft</th>\n",
       "      <th>yr_built</th>\n",
       "      <th>furniture</th>\n",
       "      <th>sale_type</th>\n",
       "      <th>...</th>\n",
       "      <th>college</th>\n",
       "      <th>hospital</th>\n",
       "      <th>population</th>\n",
       "      <th>railway</th>\n",
       "      <th>airport</th>\n",
       "      <th>on_road</th>\n",
       "      <th>air_quality</th>\n",
       "      <th>restaurant</th>\n",
       "      <th>park</th>\n",
       "      <th>price</th>\n",
       "    </tr>\n",
       "  </thead>\n",
       "  <tbody>\n",
       "    <tr>\n",
       "      <th>0</th>\n",
       "      <td>apartment</td>\n",
       "      <td>Maneja</td>\n",
       "      <td>Bakeri Swara</td>\n",
       "      <td>3 BHK</td>\n",
       "      <td>3</td>\n",
       "      <td>1</td>\n",
       "      <td>1550.0</td>\n",
       "      <td>2011.0</td>\n",
       "      <td>0</td>\n",
       "      <td>new</td>\n",
       "      <td>...</td>\n",
       "      <td>0</td>\n",
       "      <td>1</td>\n",
       "      <td>2</td>\n",
       "      <td>0</td>\n",
       "      <td>0</td>\n",
       "      <td>1</td>\n",
       "      <td>1</td>\n",
       "      <td>1</td>\n",
       "      <td>1</td>\n",
       "      <td>4361705</td>\n",
       "    </tr>\n",
       "    <tr>\n",
       "      <th>1</th>\n",
       "      <td>apartment</td>\n",
       "      <td>Maneja</td>\n",
       "      <td>Bakeri Swara</td>\n",
       "      <td>3 BHK</td>\n",
       "      <td>3</td>\n",
       "      <td>1</td>\n",
       "      <td>1550.0</td>\n",
       "      <td>2012.0</td>\n",
       "      <td>1</td>\n",
       "      <td>new</td>\n",
       "      <td>...</td>\n",
       "      <td>0</td>\n",
       "      <td>1</td>\n",
       "      <td>2</td>\n",
       "      <td>0</td>\n",
       "      <td>0</td>\n",
       "      <td>1</td>\n",
       "      <td>1</td>\n",
       "      <td>1</td>\n",
       "      <td>1</td>\n",
       "      <td>5001905</td>\n",
       "    </tr>\n",
       "    <tr>\n",
       "      <th>2</th>\n",
       "      <td>apartment</td>\n",
       "      <td>Maneja</td>\n",
       "      <td>Bakeri Swara</td>\n",
       "      <td>3 BHK</td>\n",
       "      <td>3</td>\n",
       "      <td>1</td>\n",
       "      <td>1860.0</td>\n",
       "      <td>2010.0</td>\n",
       "      <td>1</td>\n",
       "      <td>new</td>\n",
       "      <td>...</td>\n",
       "      <td>0</td>\n",
       "      <td>1</td>\n",
       "      <td>2</td>\n",
       "      <td>0</td>\n",
       "      <td>0</td>\n",
       "      <td>1</td>\n",
       "      <td>1</td>\n",
       "      <td>1</td>\n",
       "      <td>1</td>\n",
       "      <td>5588795</td>\n",
       "    </tr>\n",
       "    <tr>\n",
       "      <th>3</th>\n",
       "      <td>apartment</td>\n",
       "      <td>Maneja</td>\n",
       "      <td>Bakeri Swara</td>\n",
       "      <td>2 BHK</td>\n",
       "      <td>2</td>\n",
       "      <td>1</td>\n",
       "      <td>1015.0</td>\n",
       "      <td>2016.0</td>\n",
       "      <td>1</td>\n",
       "      <td>new</td>\n",
       "      <td>...</td>\n",
       "      <td>0</td>\n",
       "      <td>1</td>\n",
       "      <td>2</td>\n",
       "      <td>0</td>\n",
       "      <td>0</td>\n",
       "      <td>1</td>\n",
       "      <td>1</td>\n",
       "      <td>1</td>\n",
       "      <td>1</td>\n",
       "      <td>3184740</td>\n",
       "    </tr>\n",
       "    <tr>\n",
       "      <th>4</th>\n",
       "      <td>apartment</td>\n",
       "      <td>Maneja</td>\n",
       "      <td>Bakeri Swara</td>\n",
       "      <td>2 BHK</td>\n",
       "      <td>2</td>\n",
       "      <td>1</td>\n",
       "      <td>1210.0</td>\n",
       "      <td>2019.0</td>\n",
       "      <td>0</td>\n",
       "      <td>new</td>\n",
       "      <td>...</td>\n",
       "      <td>0</td>\n",
       "      <td>1</td>\n",
       "      <td>2</td>\n",
       "      <td>0</td>\n",
       "      <td>0</td>\n",
       "      <td>1</td>\n",
       "      <td>1</td>\n",
       "      <td>1</td>\n",
       "      <td>1</td>\n",
       "      <td>3498895</td>\n",
       "    </tr>\n",
       "  </tbody>\n",
       "</table>\n",
       "<p>5 rows × 24 columns</p>\n",
       "</div>"
      ],
      "text/plain": [
       "      h_type location       society   size  bathroom  balcony  total_sqft  \\\n",
       "0  apartment   Maneja  Bakeri Swara  3 BHK         3        1      1550.0   \n",
       "1  apartment   Maneja  Bakeri Swara  3 BHK         3        1      1550.0   \n",
       "2  apartment   Maneja  Bakeri Swara  3 BHK         3        1      1860.0   \n",
       "3  apartment   Maneja  Bakeri Swara  2 BHK         2        1      1015.0   \n",
       "4  apartment   Maneja  Bakeri Swara  2 BHK         2        1      1210.0   \n",
       "\n",
       "   yr_built  furniture sale_type  ...  college  hospital  population  railway  \\\n",
       "0    2011.0          0       new  ...        0         1           2        0   \n",
       "1    2012.0          1       new  ...        0         1           2        0   \n",
       "2    2010.0          1       new  ...        0         1           2        0   \n",
       "3    2016.0          1       new  ...        0         1           2        0   \n",
       "4    2019.0          0       new  ...        0         1           2        0   \n",
       "\n",
       "   airport  on_road  air_quality  restaurant  park    price  \n",
       "0        0        1            1           1     1  4361705  \n",
       "1        0        1            1           1     1  5001905  \n",
       "2        0        1            1           1     1  5588795  \n",
       "3        0        1            1           1     1  3184740  \n",
       "4        0        1            1           1     1  3498895  \n",
       "\n",
       "[5 rows x 24 columns]"
      ]
     },
     "execution_count": 2,
     "metadata": {},
     "output_type": "execute_result"
    }
   ],
   "source": [
    "data = pd.read_csv(\"vadodara_house_price_dataset_new.csv\")\n",
    "data.head()"
   ]
  },
  {
   "cell_type": "markdown",
   "metadata": {},
   "source": [
    "# Data Preprocessing"
   ]
  },
  {
   "cell_type": "code",
   "execution_count": 3,
   "metadata": {},
   "outputs": [
    {
     "data": {
      "text/html": [
       "<div>\n",
       "<style scoped>\n",
       "    .dataframe tbody tr th:only-of-type {\n",
       "        vertical-align: middle;\n",
       "    }\n",
       "\n",
       "    .dataframe tbody tr th {\n",
       "        vertical-align: top;\n",
       "    }\n",
       "\n",
       "    .dataframe thead th {\n",
       "        text-align: right;\n",
       "    }\n",
       "</style>\n",
       "<table border=\"1\" class=\"dataframe\">\n",
       "  <thead>\n",
       "    <tr style=\"text-align: right;\">\n",
       "      <th></th>\n",
       "      <th>h_type</th>\n",
       "      <th>location</th>\n",
       "      <th>size</th>\n",
       "      <th>bathroom</th>\n",
       "      <th>balcony</th>\n",
       "      <th>total_sqft</th>\n",
       "      <th>price</th>\n",
       "    </tr>\n",
       "  </thead>\n",
       "  <tbody>\n",
       "    <tr>\n",
       "      <th>0</th>\n",
       "      <td>apartment</td>\n",
       "      <td>Maneja</td>\n",
       "      <td>3 BHK</td>\n",
       "      <td>3</td>\n",
       "      <td>1</td>\n",
       "      <td>1550.0</td>\n",
       "      <td>4361705</td>\n",
       "    </tr>\n",
       "    <tr>\n",
       "      <th>1</th>\n",
       "      <td>apartment</td>\n",
       "      <td>Maneja</td>\n",
       "      <td>3 BHK</td>\n",
       "      <td>3</td>\n",
       "      <td>1</td>\n",
       "      <td>1550.0</td>\n",
       "      <td>5001905</td>\n",
       "    </tr>\n",
       "    <tr>\n",
       "      <th>2</th>\n",
       "      <td>apartment</td>\n",
       "      <td>Maneja</td>\n",
       "      <td>3 BHK</td>\n",
       "      <td>3</td>\n",
       "      <td>1</td>\n",
       "      <td>1860.0</td>\n",
       "      <td>5588795</td>\n",
       "    </tr>\n",
       "    <tr>\n",
       "      <th>3</th>\n",
       "      <td>apartment</td>\n",
       "      <td>Maneja</td>\n",
       "      <td>2 BHK</td>\n",
       "      <td>2</td>\n",
       "      <td>1</td>\n",
       "      <td>1015.0</td>\n",
       "      <td>3184740</td>\n",
       "    </tr>\n",
       "    <tr>\n",
       "      <th>4</th>\n",
       "      <td>apartment</td>\n",
       "      <td>Maneja</td>\n",
       "      <td>2 BHK</td>\n",
       "      <td>2</td>\n",
       "      <td>1</td>\n",
       "      <td>1210.0</td>\n",
       "      <td>3498895</td>\n",
       "    </tr>\n",
       "  </tbody>\n",
       "</table>\n",
       "</div>"
      ],
      "text/plain": [
       "      h_type location   size  bathroom  balcony  total_sqft    price\n",
       "0  apartment   Maneja  3 BHK         3        1      1550.0  4361705\n",
       "1  apartment   Maneja  3 BHK         3        1      1550.0  5001905\n",
       "2  apartment   Maneja  3 BHK         3        1      1860.0  5588795\n",
       "3  apartment   Maneja  2 BHK         2        1      1015.0  3184740\n",
       "4  apartment   Maneja  2 BHK         2        1      1210.0  3498895"
      ]
     },
     "execution_count": 3,
     "metadata": {},
     "output_type": "execute_result"
    }
   ],
   "source": [
    "data = data.drop(['society', 'yr_built', 'furniture', 'sale_type', 'amenities', 'market', 'office', 'school', 'college', 'hospital', 'population', 'railway', 'airport', 'on_road', 'air_quality', 'restaurant', 'park'], axis=1)\n",
    "data.head()"
   ]
  },
  {
   "cell_type": "code",
   "execution_count": 4,
   "metadata": {},
   "outputs": [
    {
     "data": {
      "text/plain": [
       "h_type        0\n",
       "location      0\n",
       "size          0\n",
       "bathroom      0\n",
       "balcony       0\n",
       "total_sqft    0\n",
       "price         0\n",
       "dtype: int64"
      ]
     },
     "execution_count": 4,
     "metadata": {},
     "output_type": "execute_result"
    }
   ],
   "source": [
    "data.isnull().sum()"
   ]
  },
  {
   "cell_type": "code",
   "execution_count": 5,
   "metadata": {},
   "outputs": [
    {
     "data": {
      "text/plain": [
       "array([['apartment', 'Maneja', '3 BHK', 3, 1, 1550.0],\n",
       "       ['apartment', 'Maneja', '3 BHK', 3, 1, 1550.0],\n",
       "       ['apartment', 'Maneja', '3 BHK', 3, 1, 1860.0],\n",
       "       ...,\n",
       "       ['apartment', 'Gotri', '3 BHK', 3, 3, 1550.0],\n",
       "       ['apartment', 'Gotri', '3 BHK', 3, 2, 1750.0],\n",
       "       ['apartment', 'Gotri', '2 BHK', 2, 3, 1200.0]], dtype=object)"
      ]
     },
     "execution_count": 5,
     "metadata": {},
     "output_type": "execute_result"
    }
   ],
   "source": [
    "df = data.iloc[ : , :-1].values\n",
    "df"
   ]
  },
  {
   "cell_type": "markdown",
   "metadata": {},
   "source": [
    "# Label encoder(its conver the categorical to numerical)"
   ]
  },
  {
   "cell_type": "code",
   "execution_count": 6,
   "metadata": {},
   "outputs": [],
   "source": [
    "label_encoder = LabelEncoder()"
   ]
  },
  {
   "cell_type": "code",
   "execution_count": 7,
   "metadata": {},
   "outputs": [
    {
     "data": {
      "text/plain": [
       "array([[0, 'Maneja', '3 BHK', 3, 1, 1550.0],\n",
       "       [0, 'Maneja', '3 BHK', 3, 1, 1550.0],\n",
       "       [0, 'Maneja', '3 BHK', 3, 1, 1860.0],\n",
       "       ...,\n",
       "       [0, 'Gotri', '3 BHK', 3, 3, 1550.0],\n",
       "       [0, 'Gotri', '3 BHK', 3, 2, 1750.0],\n",
       "       [0, 'Gotri', '2 BHK', 2, 3, 1200.0]], dtype=object)"
      ]
     },
     "execution_count": 7,
     "metadata": {},
     "output_type": "execute_result"
    }
   ],
   "source": [
    "df[ : ,0] = label_encoder.fit_transform(df[ : ,0])\n",
    "df"
   ]
  },
  {
   "cell_type": "code",
   "execution_count": 8,
   "metadata": {},
   "outputs": [
    {
     "data": {
      "text/plain": [
       "{'apartment': 0,\n",
       " 'duplex': 1,\n",
       " 'pent house': 2,\n",
       " 'tenament': 3,\n",
       " 'triplex': 4,\n",
       " 'villa': 5}"
      ]
     },
     "execution_count": 8,
     "metadata": {},
     "output_type": "execute_result"
    }
   ],
   "source": [
    "mapping = dict(zip(label_encoder.classes_, label_encoder.transform(label_encoder.classes_)))\n",
    "mapping"
   ]
  },
  {
   "cell_type": "code",
   "execution_count": 9,
   "metadata": {},
   "outputs": [
    {
     "data": {
      "text/plain": [
       "array([[0, 15, '3 BHK', 3, 1, 1550.0],\n",
       "       [0, 15, '3 BHK', 3, 1, 1550.0],\n",
       "       [0, 15, '3 BHK', 3, 1, 1860.0],\n",
       "       ...,\n",
       "       [0, 8, '3 BHK', 3, 3, 1550.0],\n",
       "       [0, 8, '3 BHK', 3, 2, 1750.0],\n",
       "       [0, 8, '2 BHK', 2, 3, 1200.0]], dtype=object)"
      ]
     },
     "execution_count": 9,
     "metadata": {},
     "output_type": "execute_result"
    }
   ],
   "source": [
    "df[ : ,1] = label_encoder.fit_transform(df[ : ,1])\n",
    "df"
   ]
  },
  {
   "cell_type": "code",
   "execution_count": 10,
   "metadata": {},
   "outputs": [
    {
     "data": {
      "text/plain": [
       "{'Ajwa Road': 0,\n",
       " 'Akota': 1,\n",
       " 'Alkapuri': 2,\n",
       " 'Atladra': 3,\n",
       " 'Bhayli': 4,\n",
       " 'Chhani': 5,\n",
       " 'Fatehgunj': 6,\n",
       " 'Gorwa': 7,\n",
       " 'Gotri': 8,\n",
       " 'Harni': 9,\n",
       " 'Karelibaug': 10,\n",
       " 'Khodiyar Nagar': 11,\n",
       " 'Laxmipura': 12,\n",
       " 'Madhav Pura': 13,\n",
       " 'Mandvi': 14,\n",
       " 'Maneja': 15,\n",
       " 'Manjalpur': 16,\n",
       " 'Navapura': 17,\n",
       " 'New Alkapuri': 18,\n",
       " 'New Karelibaugh': 19,\n",
       " 'New Sama': 20,\n",
       " 'New VIP Road': 21,\n",
       " 'Sama': 22,\n",
       " 'Sayajipura': 23,\n",
       " 'Soma Talav': 24,\n",
       " 'Vasant Vihar': 25,\n",
       " 'Vasna Road': 26,\n",
       " 'Vasna-Bhayli Road': 27,\n",
       " 'Waghodia Road': 28}"
      ]
     },
     "execution_count": 10,
     "metadata": {},
     "output_type": "execute_result"
    }
   ],
   "source": [
    "mapping = dict(zip(label_encoder.classes_, label_encoder.transform(label_encoder.classes_)))\n",
    "mapping"
   ]
  },
  {
   "cell_type": "code",
   "execution_count": 11,
   "metadata": {},
   "outputs": [
    {
     "data": {
      "text/plain": [
       "array([[0, 15, 2, 3, 1, 1550.0],\n",
       "       [0, 15, 2, 3, 1, 1550.0],\n",
       "       [0, 15, 2, 3, 1, 1860.0],\n",
       "       ...,\n",
       "       [0, 8, 2, 3, 3, 1550.0],\n",
       "       [0, 8, 2, 3, 2, 1750.0],\n",
       "       [0, 8, 1, 2, 3, 1200.0]], dtype=object)"
      ]
     },
     "execution_count": 11,
     "metadata": {},
     "output_type": "execute_result"
    }
   ],
   "source": [
    "df[ : ,2] = label_encoder.fit_transform(df[ : ,2])\n",
    "df"
   ]
  },
  {
   "cell_type": "code",
   "execution_count": 12,
   "metadata": {},
   "outputs": [
    {
     "data": {
      "text/plain": [
       "{'1 BHK': 0, '2 BHK': 1, '3 BHK': 2, '4 BHK': 3, '5 BHK': 4}"
      ]
     },
     "execution_count": 12,
     "metadata": {},
     "output_type": "execute_result"
    }
   ],
   "source": [
    "mapping = dict(zip(label_encoder.classes_, label_encoder.transform(label_encoder.classes_)))\n",
    "mapping"
   ]
  },
  {
   "cell_type": "code",
   "execution_count": 42,
   "metadata": {},
   "outputs": [],
   "source": [
    "y = data.price.values\n",
    "X = df"
   ]
  },
  {
   "cell_type": "markdown",
   "metadata": {},
   "source": [
    "# Split the dataset "
   ]
  },
  {
   "cell_type": "code",
   "execution_count": 44,
   "metadata": {},
   "outputs": [],
   "source": [
    "X_train, X_val, y_train, y_val = train_test_split(X, y,test_size=0.2)"
   ]
  },
  {
   "cell_type": "code",
   "execution_count": 45,
   "metadata": {},
   "outputs": [],
   "source": [
    "standard_x = StandardScaler()"
   ]
  },
  {
   "cell_type": "code",
   "execution_count": 46,
   "metadata": {},
   "outputs": [],
   "source": [
    "X_train = standard_x.fit_transform(X_train)\n",
    "X_val = standard_x.transform(X_val)"
   ]
  },
  {
   "cell_type": "code",
   "execution_count": 47,
   "metadata": {},
   "outputs": [
    {
     "name": "stdout",
     "output_type": "stream",
     "text": [
      "Train_Shape:  (272, 6)\n",
      "\n",
      "X_train:\n"
     ]
    },
    {
     "data": {
      "text/plain": [
       "array([[-0.40761831, -0.74195115,  0.34259435, -0.66596669, -0.63101082,\n",
       "        -0.54914588],\n",
       "       [ 3.52401931,  0.34014382,  0.34259435,  0.38718994,  0.42196429,\n",
       "        -0.14396622],\n",
       "       [-0.40761831, -0.41732266, -0.82222645, -0.66596669, -0.63101082,\n",
       "        -0.70982057],\n",
       "       ...,\n",
       "       [-0.40761831,  0.77298181,  0.34259435,  0.38718994,  0.42196429,\n",
       "        -0.2711088 ],\n",
       "       [-0.40761831, -0.95837014,  0.34259435,  0.38718994,  1.4749394 ,\n",
       "         1.20430403],\n",
       "       [-0.40761831,  1.5304483 ,  0.34259435,  0.38718994, -0.63101082,\n",
       "        -0.35354191]])"
      ]
     },
     "execution_count": 47,
     "metadata": {},
     "output_type": "execute_result"
    }
   ],
   "source": [
    "print('Train_Shape: ',X_train.shape)\n",
    "print(\"\\nX_train:\")\n",
    "X_train"
   ]
  },
  {
   "cell_type": "code",
   "execution_count": 48,
   "metadata": {},
   "outputs": [
    {
     "name": "stdout",
     "output_type": "stream",
     "text": [
      "Val_Shape:  (68, 6)\n",
      "\n",
      "X_val:\n"
     ]
    },
    {
     "data": {
      "text/plain": [
       "array([[ 0.37870921,  0.66477232,  0.34259435,  0.38718994,  0.42196429,\n",
       "        -0.10903694],\n",
       "       [ 0.37870921,  1.63865779,  0.34259435,  0.38718994, -0.63101082,\n",
       "        -0.24037104],\n",
       "       [-0.40761831,  0.23193433,  0.34259435,  0.38718994, -0.63101082,\n",
       "         0.56859111],\n",
       "       [-0.40761831, -0.41732266,  1.50741516,  1.44034656,  2.5279145 ,\n",
       "         1.56337704],\n",
       "       [-0.40761831,  0.34014382,  0.34259435,  0.38718994,  1.4749394 ,\n",
       "         0.12149632],\n",
       "       [-0.40761831, -0.41732266, -0.82222645, -0.66596669, -0.63101082,\n",
       "        -0.25573992],\n",
       "       [ 0.37870921,  1.63865779,  0.34259435,  0.38718994,  1.4749394 ,\n",
       "         0.20532659],\n",
       "       [-0.40761831,  1.4222388 ,  0.34259435,  0.38718994, -0.63101082,\n",
       "         0.34504372],\n",
       "       [-0.40761831,  1.5304483 ,  1.50741516,  1.44034656,  0.42196429,\n",
       "         1.74221496],\n",
       "       [-0.40761831, -1.39120813, -0.82222645, -0.66596669, -0.63101082,\n",
       "        -0.05315009],\n",
       "       [-0.40761831, -0.41732266, -0.82222645, -0.66596669,  0.42196429,\n",
       "        -0.50583357],\n",
       "       [-0.40761831,  0.55656282,  1.50741516,  1.44034656,  0.42196429,\n",
       "         2.02164921],\n",
       "       [-0.40761831,  0.98940081,  0.34259435, -0.66596669, -0.63101082,\n",
       "         0.06560947],\n",
       "       [ 0.37870921,  0.66477232,  0.34259435,  0.38718994,  0.42196429,\n",
       "         0.48476084],\n",
       "       [-0.40761831,  0.88119131,  0.34259435,  0.38718994, -0.63101082,\n",
       "        -0.15793793],\n",
       "       [ 0.37870921, -0.85016065,  0.34259435,  0.38718994, -0.63101082,\n",
       "        -0.07410766],\n",
       "       [-0.40761831, -0.20090366, -0.82222645, -0.66596669,  0.42196429,\n",
       "        -0.28368334],\n",
       "       [ 1.16503674,  0.88119131,  0.34259435,  0.38718994,  0.42196429,\n",
       "         0.72926581],\n",
       "       [-0.40761831, -0.41732266,  0.34259435,  0.38718994, -0.63101082,\n",
       "         2.44080058],\n",
       "       [-0.40761831, -1.39120813, -0.82222645, -0.66596669,  0.42196429,\n",
       "        -0.35354191],\n",
       "       [-0.40761831, -0.41732266,  0.34259435,  0.38718994,  0.42196429,\n",
       "         0.43027116],\n",
       "       [-0.40761831,  1.63865779,  0.34259435,  0.38718994, -0.63101082,\n",
       "        -0.56730911],\n",
       "       [ 0.37870921, -1.39120813,  0.34259435,  0.38718994, -0.63101082,\n",
       "        -0.42340047],\n",
       "       [-0.40761831, -0.85016065,  0.34259435,  0.38718994, -0.63101082,\n",
       "         0.84802536],\n",
       "       [-0.40761831, -0.95837014, -0.82222645, -0.66596669, -0.63101082,\n",
       "        -0.49325903],\n",
       "       [-0.40761831,  0.77298181,  0.34259435,  0.38718994,  0.42196429,\n",
       "        -0.24176821],\n",
       "       [-0.40761831, -0.52553216,  0.34259435,  0.38718994,  0.42196429,\n",
       "         0.41490228],\n",
       "       [-0.40761831, -0.30911316, -0.82222645, -0.66596669, -0.63101082,\n",
       "        -0.28368334],\n",
       "       [-0.40761831, -0.41732266, -1.98704726, -1.71912332, -0.63101082,\n",
       "        -1.01719825],\n",
       "       [-0.40761831, -1.17478914,  0.34259435,  0.38718994, -0.63101082,\n",
       "         0.76419509],\n",
       "       [ 0.37870921,  1.63865779, -1.98704726, -1.71912332, -0.63101082,\n",
       "        -1.19883051],\n",
       "       [-0.40761831,  1.63865779, -0.82222645, -0.66596669, -1.68398592,\n",
       "        -0.85652356],\n",
       "       [-0.40761831, -0.95837014,  0.34259435, -1.71912332, -0.63101082,\n",
       "        -0.7671046 ],\n",
       "       [-0.40761831, -0.95837014,  0.34259435, -0.66596669, -0.63101082,\n",
       "        -0.35354191],\n",
       "       [ 0.37870921,  1.63865779,  0.34259435, -0.66596669,  0.42196429,\n",
       "        -0.56311759],\n",
       "       [-0.40761831, -0.85016065,  0.34259435, -0.66596669, -0.63101082,\n",
       "        -0.19286721],\n",
       "       [-0.40761831, -0.95837014,  0.34259435,  0.38718994,  0.42196429,\n",
       "         0.97377078],\n",
       "       [-0.40761831,  0.44835332, -0.82222645, -1.71912332, -1.68398592,\n",
       "        -0.49325903],\n",
       "       [-0.40761831,  1.63865779, -0.82222645, -0.66596669,  0.42196429,\n",
       "        -0.49325903],\n",
       "       [-0.40761831, -0.41732266,  0.34259435,  0.38718994,  0.42196429,\n",
       "        -0.01123495],\n",
       "       [-0.40761831, -0.95837014,  0.34259435,  0.38718994, -0.63101082,\n",
       "         0.35342674],\n",
       "       [-0.40761831,  0.88119131,  0.34259435,  0.38718994, -0.63101082,\n",
       "        -0.43737218],\n",
       "       [-0.40761831, -0.95837014, -0.82222645, -0.66596669,  0.42196429,\n",
       "        -0.07410766],\n",
       "       [-0.40761831, -0.85016065,  0.34259435,  0.38718994, -0.63101082,\n",
       "         1.12745961],\n",
       "       [-0.40761831, -0.41732266,  0.34259435,  0.38718994,  0.42196429,\n",
       "        -0.5435572 ],\n",
       "       [-0.40761831, -0.85016065, -0.82222645, -0.66596669, -0.63101082,\n",
       "         0.08656704],\n",
       "       [-0.40761831,  0.23193433,  1.50741516,  1.44034656, -0.63101082,\n",
       "         1.60948369],\n",
       "       [ 0.37870921,  1.63865779,  0.34259435,  0.38718994, -0.63101082,\n",
       "        -0.59804688],\n",
       "       [ 0.37870921,  0.88119131,  0.34259435,  0.38718994,  0.42196429,\n",
       "         0.12848217],\n",
       "       [-0.40761831,  1.63865779,  0.34259435,  0.38718994,  1.4749394 ,\n",
       "        -0.51281943],\n",
       "       [-0.40761831, -0.20090366, -0.82222645, -0.66596669, -0.63101082,\n",
       "        -1.05212753],\n",
       "       [-0.40761831, -0.95837014,  0.34259435,  0.38718994, -1.68398592,\n",
       "         0.24025587],\n",
       "       [-0.40761831,  1.4222388 ,  0.34259435,  0.38718994, -0.63101082,\n",
       "         0.13546803],\n",
       "       [-0.40761831,  1.63865779, -1.98704726, -1.71912332, -0.63101082,\n",
       "        -1.19184465],\n",
       "       [-0.40761831,  0.66477232, -0.82222645, -0.66596669, -0.63101082,\n",
       "        -1.15132669],\n",
       "       [ 3.52401931, -1.06657964,  0.34259435,  0.38718994,  0.42196429,\n",
       "         0.34504372],\n",
       "       [-0.40761831, -0.41732266,  0.34259435,  0.38718994,  0.42196429,\n",
       "         0.4917467 ],\n",
       "       [-0.40761831, -0.74195115,  0.34259435, -0.66596669,  0.42196429,\n",
       "         2.16136633],\n",
       "       [ 0.37870921,  0.66477232, -1.98704726, -1.71912332, -0.63101082,\n",
       "        -0.96829726],\n",
       "       [-0.40761831, -0.41732266,  0.34259435,  0.38718994, -0.63101082,\n",
       "         0.46380327],\n",
       "       [-0.40761831, -0.85016065, -0.82222645, -0.66596669,  0.42196429,\n",
       "        -0.25294558],\n",
       "       [ 0.37870921,  0.88119131,  1.50741516,  1.44034656, -1.68398592,\n",
       "        -0.21382478],\n",
       "       [-0.40761831, -0.41732266, -0.82222645, -0.66596669, -0.63101082,\n",
       "        -0.18727853],\n",
       "       [ 0.37870921,  0.55656282,  1.50741516,  2.49350319, -0.63101082,\n",
       "         3.25954293],\n",
       "       [-0.40761831, -0.74195115,  0.34259435,  0.38718994,  0.42196429,\n",
       "         1.46278071],\n",
       "       [ 0.37870921,  1.63865779, -1.98704726, -1.71912332, -1.68398592,\n",
       "        -1.25611453],\n",
       "       [ 0.37870921, -0.95837014,  1.50741516,  0.38718994,  0.42196429,\n",
       "         0.41490228],\n",
       "       [-0.40761831,  1.3140293 ,  0.34259435,  1.44034656,  0.42196429,\n",
       "         4.11740608]])"
      ]
     },
     "execution_count": 48,
     "metadata": {},
     "output_type": "execute_result"
    }
   ],
   "source": [
    "print('Val_Shape: ',X_val.shape)\n",
    "print(\"\\nX_val:\")\n",
    "X_val"
   ]
  },
  {
   "cell_type": "code",
   "execution_count": 49,
   "metadata": {},
   "outputs": [],
   "source": [
    "regressor = RandomForestRegressor(n_estimators = 10, random_state = 0)"
   ]
  },
  {
   "cell_type": "markdown",
   "metadata": {},
   "source": [
    "# train the model"
   ]
  },
  {
   "cell_type": "code",
   "execution_count": 50,
   "metadata": {},
   "outputs": [
    {
     "data": {
      "text/plain": [
       "RandomForestRegressor(n_estimators=10, random_state=0)"
      ]
     },
     "execution_count": 50,
     "metadata": {},
     "output_type": "execute_result"
    }
   ],
   "source": [
    "regressor.fit(X_train, y_train)"
   ]
  },
  {
   "cell_type": "markdown",
   "metadata": {},
   "source": [
    "# predict the accuracy score"
   ]
  },
  {
   "cell_type": "code",
   "execution_count": 106,
   "metadata": {},
   "outputs": [
    {
     "name": "stdout",
     "output_type": "stream",
     "text": [
      "Accuracy: -0.14313517508927776\n"
     ]
    }
   ],
   "source": [
    "acc = regressor.score(X_val, y_val)\n",
    "print(\"Accuracy:\", acc)"
   ]
  },
  {
   "cell_type": "markdown",
   "metadata": {},
   "source": [
    "# KNN regression algorithm"
   ]
  },
  {
   "cell_type": "code",
   "execution_count": 63,
   "metadata": {},
   "outputs": [
    {
     "data": {
      "text/plain": [
       "KNeighborsRegressor(n_neighbors=1)"
      ]
     },
     "execution_count": 63,
     "metadata": {},
     "output_type": "execute_result"
    }
   ],
   "source": [
    "from sklearn.neighbors import KNeighborsRegressor\n",
    "regressor=KNeighborsRegressor(n_neighbors=1)\n",
    "regressor.fit(X_train,y_train)"
   ]
  },
  {
   "cell_type": "code",
   "execution_count": 64,
   "metadata": {},
   "outputs": [
    {
     "name": "stdout",
     "output_type": "stream",
     "text": [
      "Coefficient of determination R^2 <-- on train set: 0.9999473367464827\n"
     ]
    }
   ],
   "source": [
    "print(\"Coefficient of determination R^2 <-- on train set: {}\".format(regressor.score(X_train, y_train)))"
   ]
  },
  {
   "cell_type": "code",
   "execution_count": 66,
   "metadata": {},
   "outputs": [
    {
     "name": "stdout",
     "output_type": "stream",
     "text": [
      "Coefficient of determination R^2 <-- on train set: -0.14313517508927776\n"
     ]
    }
   ],
   "source": [
    "print(\"Coefficient of determination R^2 <-- on train set: {}\".format(regressor.score(X_val, y_val)))"
   ]
  },
  {
   "cell_type": "code",
   "execution_count": 67,
   "metadata": {},
   "outputs": [],
   "source": [
    "from sklearn.model_selection import cross_val_score\n",
    "score=cross_val_score(regressor,X,y,cv=5)"
   ]
  },
  {
   "cell_type": "code",
   "execution_count": 68,
   "metadata": {},
   "outputs": [
    {
     "data": {
      "text/plain": [
       "-0.8747394012685692"
      ]
     },
     "execution_count": 68,
     "metadata": {},
     "output_type": "execute_result"
    }
   ],
   "source": [
    "score.mean()"
   ]
  },
  {
   "cell_type": "code",
   "execution_count": 70,
   "metadata": {},
   "outputs": [],
   "source": [
    "prediction=regressor.predict(X_val)"
   ]
  },
  {
   "cell_type": "code",
   "execution_count": 72,
   "metadata": {},
   "outputs": [
    {
     "name": "stderr",
     "output_type": "stream",
     "text": [
      "C:\\Users\\Dell\\anaconda3\\lib\\site-packages\\seaborn\\distributions.py:2619: FutureWarning: `distplot` is a deprecated function and will be removed in a future version. Please adapt your code to use either `displot` (a figure-level function with similar flexibility) or `histplot` (an axes-level function for histograms).\n",
      "  warnings.warn(msg, FutureWarning)\n"
     ]
    },
    {
     "data": {
      "text/plain": [
       "<AxesSubplot:ylabel='Density'>"
      ]
     },
     "execution_count": 72,
     "metadata": {},
     "output_type": "execute_result"
    },
    {
     "data": {
      "image/png": "[encoded data removed]",
      "text/plain": [
       "<Figure size 640x480 with 1 Axes>"
      ]
     },
     "metadata": {},
     "output_type": "display_data"
    }
   ],
   "source": [
    "import seaborn as sns\n",
    "sns.distplot(y_val-prediction)"
   ]
  },
  {
   "cell_type": "code",
   "execution_count": 74,
   "metadata": {
    "scrolled": true
   },
   "outputs": [
    {
     "data": {
      "text/plain": [
       "<matplotlib.collections.PathCollection at 0x19cfcd55820>"
      ]
     },
     "execution_count": 74,
     "metadata": {},
     "output_type": "execute_result"
    },
    {
     "data": {
      "image/png": "[encoded data removed]",
      "text/plain": [
       "<Figure size 640x480 with 1 Axes>"
      ]
     },
     "metadata": {},
     "output_type": "display_data"
    }
   ],
   "source": [
    "import matplotlib.pyplot as plt\n",
    "plt.scatter(y_val,prediction)"
   ]
  },
  {
   "cell_type": "code",
   "execution_count": null,
   "metadata": {},
   "outputs": [],
   "source": [
    "#Hypertunning "
   ]
  },
  {
   "cell_type": "code",
   "execution_count": 75,
   "metadata": {},
   "outputs": [],
   "source": [
    "accuracy_rate = []\n",
    "\n",
    "# Will take some time\n",
    "for i in range(1,40):\n",
    "    \n",
    "    knn = KNeighborsRegressor(n_neighbors=i)\n",
    "    score=cross_val_score(knn,X,y,cv=10,scoring=\"neg_mean_squared_error\")\n",
    "    accuracy_rate.append(score.mean())"
   ]
  },
  {
   "cell_type": "code",
   "execution_count": 76,
   "metadata": {},
   "outputs": [
    {
     "data": {
      "text/plain": [
       "Text(0, 0.5, 'Accuracy Rate')"
      ]
     },
     "execution_count": 76,
     "metadata": {},
     "output_type": "execute_result"
    },
    {
     "data": {
      "image/png": "[encoded data removed]",
      "text/plain": [
       "<Figure size 1000x600 with 1 Axes>"
      ]
     },
     "metadata": {},
     "output_type": "display_data"
    }
   ],
   "source": [
    "import matplotlib.pyplot as plt\n",
    "\n",
    "plt.figure(figsize=(10,6))\n",
    "plt.plot(range(1,40),accuracy_rate,color='blue', linestyle='dashed', marker='o',\n",
    "         markerfacecolor='red', markersize=10)\n",
    "plt.title('Accuracy Rate vs. K Value')\n",
    "plt.xlabel('K')\n",
    "plt.ylabel('Accuracy Rate')"
   ]
  },
  {
   "cell_type": "code",
   "execution_count": 80,
   "metadata": {},
   "outputs": [
    {
     "name": "stdout",
     "output_type": "stream",
     "text": [
      "[ 5000000.  1800000.  5500000. 16800000.  3570000.  3800000.  3751000.\n",
      "  4500000.  6500000.  3300000.  2535000. 11000000.  3500000.  4701000.\n",
      "  2400000.  5100000.  2300000.  5355000.  5169000.  1900000. 10800000.\n",
      "  4300000.  5100000.  5600000.  1900000.  2701000. 10800000.  3200000.\n",
      "  2000000.  5600000.  2250000.  2400000.  8900000.  3000000.  2950000.\n",
      "  3000000.  5712000.  2500000.  2300000.  3300000.  8000000.  2400000.\n",
      "  3500000.  6000000.  3801000.  3500000. 11000000.  4801000.  4701000.\n",
      "  3751000.  2050000.  4800000.  4500000.  1180000.  1930000.  7200000.\n",
      " 10800000. 11100000.  1199000.  3346000.  1900000.  4221000.  3800000.\n",
      " 13400000. 11100000.  1400000. 18000000. 37000000.]\n"
     ]
    }
   ],
   "source": [
    "# FIRST A QUICK COMPARISON TO OUR ORIGINAL K=1\n",
    "knn = KNeighborsRegressor(n_neighbors=1)\n",
    "\n",
    "knn.fit(X_train,y_train)\n",
    "predictions = knn.predict(X_val)\n",
    "print(predictions)"
   ]
  },
  {
   "cell_type": "code",
   "execution_count": 85,
   "metadata": {},
   "outputs": [
    {
     "name": "stdout",
     "output_type": "stream",
     "text": [
      "Mean Squared Error: 14367958207545.309\n"
     ]
    }
   ],
   "source": [
    "from sklearn.metrics import mean_squared_error\n",
    "\n",
    "mse = mean_squared_error(y_val, predictions)\n",
    "print(\"Mean Squared Error:\", mse)"
   ]
  },
  {
   "cell_type": "code",
   "execution_count": 79,
   "metadata": {},
   "outputs": [
    {
     "name": "stdout",
     "output_type": "stream",
     "text": [
      "MAE: 2156870.75\n",
      "MSE: 14367958207545.309\n",
      "RMSE: 3790508.9641821594\n"
     ]
    }
   ],
   "source": [
    "from sklearn import metrics\n",
    "print('MAE:', metrics.mean_absolute_error(y_val, predictions))\n",
    "print('MSE:', metrics.mean_squared_error(y_val, predictions))\n",
    "print('RMSE:', np.sqrt(metrics.mean_squared_error(y_val, predictions)))"
   ]
  },
  {
   "cell_type": "markdown",
   "metadata": {},
   "source": [
    "# GaussianNB model"
   ]
  },
  {
   "cell_type": "code",
   "execution_count": 88,
   "metadata": {},
   "outputs": [
    {
     "name": "stdout",
     "output_type": "stream",
     "text": [
      "[ 6200000  1800000  5600000 10500000  5600000  3350000  6200000  4500000\n",
      " 14000000  3350000  1900000 14000000  3000000  6200000  5600000  6000000\n",
      "  1900000  6200000  5600000  1900000  4800000  5600000  6000000  5600000\n",
      "  3350000  5600000  4800000  3800000  2200000  5600000  2600000  2800000\n",
      "  6000000  3000000  2950000  3000000  5600000  2400000  1900000  5600000\n",
      "  4800000  5600000  1900000  5600000  5600000  3350000 14000000  1800000\n",
      "  6200000  5600000  3350000  4800000  5600000  3500000  3350000  7200000\n",
      "  4800000  4000000  2600000  4800000  1900000 14000000  3350000 14000000\n",
      "  5600000  2600000 10000000  7500000]\n"
     ]
    }
   ],
   "source": [
    "from sklearn.naive_bayes import GaussianNB\n",
    "# Train the model\n",
    "nb = GaussianNB()\n",
    "nb.fit(X_train,y_train)\n",
    "\n",
    "predictions = nb.predict(X_val)\n",
    "print(predictions)"
   ]
  },
  {
   "cell_type": "code",
   "execution_count": 90,
   "metadata": {},
   "outputs": [
    {
     "name": "stdout",
     "output_type": "stream",
     "text": [
      "Accuracy Score: 0.014705882352941176\n"
     ]
    }
   ],
   "source": [
    "from sklearn.metrics import accuracy_score\n",
    "\n",
    "# Calculate the accuracy score\n",
    "accuracy = accuracy_score(y_val, predictions)\n",
    "\n",
    "# Print the accuracy score\n",
    "print(\"Accuracy Score:\", accuracy)"
   ]
  },
  {
   "cell_type": "code",
   "execution_count": 107,
   "metadata": {},
   "outputs": [
    {
     "data": {
      "image/png": "[encoded data removed]",
      "text/plain": [
       "<Figure size 640x480 with 1 Axes>"
      ]
     },
     "metadata": {},
     "output_type": "display_data"
    }
   ],
   "source": [
    "import matplotlib.pyplot as plt\n",
    "\n",
    "def comparison_bar_plot(data, labels, title, xlabel, ylabel):\n",
    "    fig, ax = plt.subplots()\n",
    "    ax.bar(labels, data)\n",
    "    ax.set_title(title)\n",
    "    ax.set_xlabel(xlabel)\n",
    "    ax.set_ylabel(ylabel)\n",
    "    plt.show()\n",
    "\n",
    "data = [acc,mse,accuracy]\n",
    "labels = ['Random forest', 'KNN reg', 'Gaussian NB']\n",
    "title = 'Comparison Bar Plot'\n",
    "xlabel = 'Labels'\n",
    "ylabel = 'Data'\n",
    "\n",
    "comparison_bar_plot(data, labels, title, xlabel, ylabel)\n"
   ]
  },
  {
   "cell_type": "code",
   "execution_count": 93,
   "metadata": {},
   "outputs": [],
   "source": [
    "filename = 'vadodara_house_model.pkl'"
   ]
  },
  {
   "cell_type": "code",
   "execution_count": 94,
   "metadata": {},
   "outputs": [],
   "source": [
    "pickle.dump(regressor, open(filename, 'wb'))"
   ]
  },
  {
   "cell_type": "code",
   "execution_count": 95,
   "metadata": {},
   "outputs": [],
   "source": [
    "loaded_model = pickle.load(open(filename, 'rb'))"
   ]
  },
  {
   "cell_type": "code",
   "execution_count": 96,
   "metadata": {},
   "outputs": [],
   "source": [
    "accuracy = loaded_model.score(X_val, y_val)"
   ]
  },
  {
   "cell_type": "code",
   "execution_count": 97,
   "metadata": {},
   "outputs": [
    {
     "name": "stdout",
     "output_type": "stream",
     "text": [
      "-14.313517508927776 %\n"
     ]
    }
   ],
   "source": [
    "print(accuracy*100, '%')"
   ]
  },
  {
   "cell_type": "code",
   "execution_count": 98,
   "metadata": {},
   "outputs": [],
   "source": [
    "predictions = loaded_model.predict(X_val)"
   ]
  },
  {
   "cell_type": "code",
   "execution_count": 99,
   "metadata": {},
   "outputs": [
    {
     "data": {
      "text/plain": [
       "array([ 5000000.,  1800000.,  5500000., 16800000.,  3570000.,  3800000.,\n",
       "        3751000.,  4500000.,  6500000.,  3300000.,  2535000., 11000000.,\n",
       "        3500000.,  4701000.,  2400000.,  5100000.,  2300000.,  5355000.,\n",
       "        5169000.,  1900000., 10800000.,  4300000.,  5100000.,  5600000.,\n",
       "        1900000.,  2701000., 10800000.,  3200000.,  2000000.,  5600000.,\n",
       "        2250000.,  2400000.,  8900000.,  3000000.,  2950000.,  3000000.,\n",
       "        5712000.,  2500000.,  2300000.,  3300000.,  8000000.,  2400000.,\n",
       "        3500000.,  6000000.,  3801000.,  3500000., 11000000.,  4801000.,\n",
       "        4701000.,  3751000.,  2050000.,  4800000.,  4500000.,  1180000.,\n",
       "        1930000.,  7200000., 10800000., 11100000.,  1199000.,  3346000.,\n",
       "        1900000.,  4221000.,  3800000., 13400000., 11100000.,  1400000.,\n",
       "       18000000., 37000000.])"
      ]
     },
     "execution_count": 99,
     "metadata": {},
     "output_type": "execute_result"
    }
   ],
   "source": [
    "predictions"
   ]
  },
  {
   "cell_type": "code",
   "execution_count": null,
   "metadata": {},
   "outputs": [],
   "source": []
  }
 ],
 "metadata": {
  "kernelspec": {
   "display_name": "Python 3 (ipykernel)",
   "language": "python",
   "name": "python3"
  },
  "language_info": {
   "codemirror_mode": {
    "name": "ipython",
    "version": 3
   },
   "file_extension": ".py",
   "mimetype": "text/x-python",
   "name": "python",
   "nbconvert_exporter": "python",
   "pygments_lexer": "ipython3",
   "version": "3.9.13"
  }
 },
 "nbformat": 4,
 "nbformat_minor": 2
}
